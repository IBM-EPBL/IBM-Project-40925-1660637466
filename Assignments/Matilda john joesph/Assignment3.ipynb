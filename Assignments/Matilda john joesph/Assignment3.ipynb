{
 "cells": [
  {
   "cell_type": "code",
   "execution_count": 9,
   "id": "081b90c8",
   "metadata": {},
   "outputs": [],
   "source": [
    "from tensorflow.keras.models import Sequential\n",
    "from tensorflow.keras.layers import Dense\n",
    "from tensorflow.keras.layers import Convolution2D\n",
    "from tensorflow.keras.layers import MaxPooling2D\n",
    "from tensorflow.keras.layers import Flatten"
   ]
  },
  {
   "cell_type": "code",
   "execution_count": 4,
   "id": "e1844fa4",
   "metadata": {},
   "outputs": [],
   "source": [
    "from tensorflow.keras.preprocessing.image import ImageDataGenerator\n"
   ]
  },
  {
   "cell_type": "code",
   "execution_count": 5,
   "id": "57924126",
   "metadata": {},
   "outputs": [],
   "source": [
    "train_data=ImageDataGenerator(rescale=1./255,shear_range=0.2,zoom_range=0.2,horizontal_flip=True,vertical_flip=True)\n",
    "test_data=ImageDataGenerator(rescale=1./255)"
   ]
  },
  {
   "cell_type": "code",
   "execution_count": 6,
   "id": "99e8d0d0",
   "metadata": {},
   "outputs": [
    {
     "name": "stdout",
     "output_type": "stream",
     "text": [
      "Found 3452 images belonging to 5 classes.\n",
      "Found 708 images belonging to 5 classes.\n"
     ]
    }
   ],
   "source": [
    "x_train=train_data.flow_from_directory(r\"dataset\\training\",target_size=(64,64),batch_size=32,class_mode=\"categorical\")\n",
    "x_test=test_data.flow_from_directory(r\"dataset\\testing\",target_size=(64,64),batch_size=32,class_mode=\"categorical\")"
   ]
  },
  {
   "cell_type": "code",
   "execution_count": 7,
   "id": "603a2fb6",
   "metadata": {},
   "outputs": [
    {
     "data": {
      "text/plain": [
       "{'daisy': 0, 'dandelion': 1, 'rose': 2, 'sunflower': 3, 'tulip': 4}"
      ]
     },
     "execution_count": 7,
     "metadata": {},
     "output_type": "execute_result"
    }
   ],
   "source": [
    "x_train.class_indices"
   ]
  },
  {
   "cell_type": "code",
   "execution_count": 11,
   "id": "52b7de11",
   "metadata": {},
   "outputs": [],
   "source": [
    "model=Sequential()"
   ]
  },
  {
   "cell_type": "code",
   "execution_count": 12,
   "id": "480940a0",
   "metadata": {},
   "outputs": [],
   "source": [
    "model.add(Convolution2D(64,(3,3),input_shape=(64,64,3),activation=\"relu\"))\n"
   ]
  },
  {
   "cell_type": "code",
   "execution_count": 13,
   "id": "c8792c74",
   "metadata": {},
   "outputs": [],
   "source": [
    "model.add(MaxPooling2D(pool_size=(2,2)))\n"
   ]
  },
  {
   "cell_type": "code",
   "execution_count": 14,
   "id": "e6d562e0",
   "metadata": {},
   "outputs": [],
   "source": [
    "model.add(Convolution2D(64,(3,3),input_shape=(64,64,3),activation=\"relu\"))\n",
    "model.add(MaxPooling2D(pool_size=(2,2)))"
   ]
  },
  {
   "cell_type": "code",
   "execution_count": 15,
   "id": "840b8e57",
   "metadata": {},
   "outputs": [],
   "source": [
    "model.add(Flatten())\n"
   ]
  },
  {
   "cell_type": "code",
   "execution_count": 16,
   "id": "fe63f231",
   "metadata": {},
   "outputs": [],
   "source": [
    "model.add(Dense(units=400,kernel_initializer=\"random_uniform\",activation=\"relu\"))\n",
    "model.add(Dense(units=300,kernel_initializer=\"random_uniform\",activation=\"relu\"))\n",
    "model.add(Dense(units=400,kernel_initializer=\"random_uniform\",activation=\"relu\"))\n",
    "model.add(Dense(units=300,kernel_initializer=\"random_uniform\",activation=\"relu\"))\n",
    "model.add(Dense(units=400,kernel_initializer=\"random_uniform\",activation=\"relu\"))"
   ]
  },
  {
   "cell_type": "code",
   "execution_count": 17,
   "id": "ad315950",
   "metadata": {},
   "outputs": [],
   "source": [
    "model.add(Dense(units=5,kernel_initializer=\"random_uniform\",activation=\"softmax\"))\n"
   ]
  },
  {
   "cell_type": "code",
   "execution_count": 19,
   "id": "38ce47fd",
   "metadata": {},
   "outputs": [],
   "source": [
    "model.compile(loss=\"categorical_crossentropy\",optimizer=\"adam\",metrics=[\"accuracy\"])\n"
   ]
  },
  {
   "cell_type": "code",
   "execution_count": 20,
   "id": "d5f17a7d",
   "metadata": {},
   "outputs": [
    {
     "name": "stderr",
     "output_type": "stream",
     "text": [
      "C:\\Users\\91913\\AppData\\Local\\Temp\\ipykernel_6664\\3507143097.py:1: UserWarning: `Model.fit_generator` is deprecated and will be removed in a future version. Please use `Model.fit`, which supports generators.\n",
      "  model.fit_generator(x_train,steps_per_epoch=108,epochs=30,validation_data=x_test,validation_steps=27)\n"
     ]
    },
    {
     "name": "stdout",
     "output_type": "stream",
     "text": [
      "Epoch 1/30\n",
      "108/108 [==============================] - ETA: 0s - loss: 1.4931 - accuracy: 0.2969WARNING:tensorflow:Your input ran out of data; interrupting training. Make sure that your dataset or generator can generate at least `steps_per_epoch * epochs` batches (in this case, 27 batches). You may need to use the repeat() function when building your dataset.\n",
      "108/108 [==============================] - 43s 369ms/step - loss: 1.4931 - accuracy: 0.2969 - val_loss: 1.1784 - val_accuracy: 0.4266\n",
      "Epoch 2/30\n",
      "108/108 [==============================] - 35s 323ms/step - loss: 1.2153 - accuracy: 0.4571\n",
      "Epoch 3/30\n",
      "108/108 [==============================] - 38s 346ms/step - loss: 1.1258 - accuracy: 0.5200\n",
      "Epoch 4/30\n",
      "108/108 [==============================] - 38s 347ms/step - loss: 1.0918 - accuracy: 0.5414\n",
      "Epoch 5/30\n",
      "108/108 [==============================] - 38s 348ms/step - loss: 1.0395 - accuracy: 0.5681\n",
      "Epoch 6/30\n",
      "108/108 [==============================] - 38s 350ms/step - loss: 0.9878 - accuracy: 0.5965\n",
      "Epoch 7/30\n",
      "108/108 [==============================] - 37s 343ms/step - loss: 0.9511 - accuracy: 0.6306\n",
      "Epoch 8/30\n",
      "108/108 [==============================] - 38s 352ms/step - loss: 0.9142 - accuracy: 0.6437\n",
      "Epoch 9/30\n",
      "108/108 [==============================] - 38s 354ms/step - loss: 0.8707 - accuracy: 0.6614\n",
      "Epoch 10/30\n",
      "108/108 [==============================] - 38s 350ms/step - loss: 0.8641 - accuracy: 0.6648\n",
      "Epoch 11/30\n",
      "108/108 [==============================] - 33s 308ms/step - loss: 0.8136 - accuracy: 0.6834\n",
      "Epoch 12/30\n",
      "108/108 [==============================] - 33s 309ms/step - loss: 0.8785 - accuracy: 0.6576\n",
      "Epoch 13/30\n",
      "108/108 [==============================] - 33s 307ms/step - loss: 0.7789 - accuracy: 0.7089\n",
      "Epoch 14/30\n",
      "108/108 [==============================] - 38s 350ms/step - loss: 0.7438 - accuracy: 0.7173\n",
      "Epoch 15/30\n",
      "108/108 [==============================] - 38s 351ms/step - loss: 0.7174 - accuracy: 0.7349\n",
      "Epoch 16/30\n",
      "108/108 [==============================] - 38s 349ms/step - loss: 0.7129 - accuracy: 0.7381\n",
      "Epoch 17/30\n",
      "108/108 [==============================] - 38s 347ms/step - loss: 0.6884 - accuracy: 0.7428\n",
      "Epoch 18/30\n",
      "108/108 [==============================] - 39s 360ms/step - loss: 0.6437 - accuracy: 0.7645\n",
      "Epoch 19/30\n",
      "108/108 [==============================] - 38s 354ms/step - loss: 0.6214 - accuracy: 0.7764\n",
      "Epoch 20/30\n",
      "108/108 [==============================] - 42s 388ms/step - loss: 0.6000 - accuracy: 0.7764\n",
      "Epoch 21/30\n",
      "108/108 [==============================] - 42s 392ms/step - loss: 0.5790 - accuracy: 0.7874\n",
      "Epoch 22/30\n",
      "108/108 [==============================] - 40s 369ms/step - loss: 0.5516 - accuracy: 0.7981\n",
      "Epoch 23/30\n",
      "108/108 [==============================] - 38s 349ms/step - loss: 0.5220 - accuracy: 0.8007\n",
      "Epoch 24/30\n",
      "108/108 [==============================] - 38s 348ms/step - loss: 0.4942 - accuracy: 0.8187\n",
      "Epoch 25/30\n",
      "108/108 [==============================] - 38s 354ms/step - loss: 0.4903 - accuracy: 0.8192\n",
      "Epoch 26/30\n",
      "108/108 [==============================] - 39s 356ms/step - loss: 0.4565 - accuracy: 0.8331\n",
      "Epoch 27/30\n",
      "108/108 [==============================] - 38s 349ms/step - loss: 0.4689 - accuracy: 0.8288\n",
      "Epoch 28/30\n",
      "108/108 [==============================] - 38s 354ms/step - loss: 0.4361 - accuracy: 0.8378\n",
      "Epoch 29/30\n",
      "108/108 [==============================] - 38s 350ms/step - loss: 0.3965 - accuracy: 0.8549\n",
      "Epoch 30/30\n",
      "108/108 [==============================] - 39s 358ms/step - loss: 0.4165 - accuracy: 0.8575\n"
     ]
    },
    {
     "data": {
      "text/plain": [
       "<keras.callbacks.History at 0x1ecd96b4520>"
      ]
     },
     "execution_count": 20,
     "metadata": {},
     "output_type": "execute_result"
    }
   ],
   "source": [
    "model.fit_generator(x_train,steps_per_epoch=108,epochs=30,validation_data=x_test,validation_steps=27)\n"
   ]
  },
  {
   "cell_type": "code",
   "execution_count": 21,
   "id": "8a1fe3ef",
   "metadata": {},
   "outputs": [],
   "source": [
    "model.save(\"flower.h5\")\n"
   ]
  },
  {
   "cell_type": "code",
   "execution_count": 24,
   "id": "ee9000e6",
   "metadata": {},
   "outputs": [],
   "source": [
    "#test the model\n",
    "from tensorflow.keras.models import load_model\n",
    "from tensorflow.keras.preprocessing import image\n",
    "import numpy as np"
   ]
  },
  {
   "cell_type": "code",
   "execution_count": 25,
   "id": "ddb3da65",
   "metadata": {},
   "outputs": [],
   "source": [
    "model=load_model(\"flower.h5\")\n"
   ]
  },
  {
   "cell_type": "code",
   "execution_count": 26,
   "id": "9f17e793",
   "metadata": {},
   "outputs": [
    {
     "data": {
      "image/png": "[encoded data removed]",
      "text/plain": [
       "<PIL.Image.Image image mode=RGB size=64x64 at 0x1ECD965C610>"
      ]
     },
     "execution_count": 26,
     "metadata": {},
     "output_type": "execute_result"
    }
   ],
   "source": [
    "img=image.load_img(\"rose1.jpg\",target_size=(64,64))\n",
    "img"
   ]
  },
  {
   "cell_type": "code",
   "execution_count": 27,
   "id": "7aaa36cc",
   "metadata": {},
   "outputs": [],
   "source": [
    "x=image.img_to_array(img)\n",
    "x=np.expand_dims(x,axis=0)"
   ]
  },
  {
   "cell_type": "code",
   "execution_count": 28,
   "id": "75b16622",
   "metadata": {},
   "outputs": [
    {
     "name": "stdout",
     "output_type": "stream",
     "text": [
      "1/1 [==============================] - 1s 602ms/step\n"
     ]
    }
   ],
   "source": [
    "pred_prob=model.predict(x)"
   ]
  },
  {
   "cell_type": "code",
   "execution_count": 32,
   "id": "47ee29a2",
   "metadata": {},
   "outputs": [],
   "source": [
    "class_name=[\"Daisy\",\"Dandelion\",\"Rose\",\"Sunflower\",\"Tulip\"]\n"
   ]
  },
  {
   "cell_type": "code",
   "execution_count": 30,
   "id": "71fbba63",
   "metadata": {},
   "outputs": [
    {
     "data": {
      "text/plain": [
       "3"
      ]
     },
     "execution_count": 30,
     "metadata": {},
     "output_type": "execute_result"
    }
   ],
   "source": [
    "pred_id=pred_prob.argmax(axis=1)[0]\n",
    "pred_id"
   ]
  },
  {
   "cell_type": "code",
   "execution_count": 31,
   "id": "860f9de2",
   "metadata": {},
   "outputs": [
    {
     "name": "stdout",
     "output_type": "stream",
     "text": [
      "Predicted flower is Sunflower\n"
     ]
    }
   ],
   "source": [
    "print(\"Predicted flower is\",str(class_name[pred_id]))\n"
   ]
  },
  {
   "cell_type": "code",
   "execution_count": null,
   "id": "c586d7c9",
   "metadata": {},
   "outputs": [],
   "source": []
  }
 ],
 "metadata": {
  "kernelspec": {
   "display_name": "Python 3 (ipykernel)",
   "language": "python",
   "name": "python3"
  },
  "language_info": {
   "codemirror_mode": {
    "name": "ipython",
    "version": 3
   },
   "file_extension": ".py",
   "mimetype": "text/x-python",
   "name": "python",
   "nbconvert_exporter": "python",
   "pygments_lexer": "ipython3",
   "version": "3.9.12"
  }
 },
 "nbformat": 4,
 "nbformat_minor": 5
}
